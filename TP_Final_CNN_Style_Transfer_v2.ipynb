{
  "nbformat": 4,
  "nbformat_minor": 0,
  "metadata": {
    "colab": {
      "name": "TP Final CNN - Style Transfer_v2.ipynb",
      "provenance": [],
      "collapsed_sections": []
    },
    "kernelspec": {
      "name": "python3",
      "display_name": "Python 3"
    },
    "accelerator": "GPU"
  },
  "cells": [
    {
      "cell_type": "markdown",
      "metadata": {
        "id": "qCY6UbkkI9_N"
      },
      "source": [
        "# Style Transfer\n",
        "\n",
        "<img src=\"https://i0.wp.com/chelseatroy.com/wp-content/uploads/2018/12/neural_style_transfer.png?resize=768%2C311&ssl=1\">\n",
        "\n",
        "La idea de este trabajo final es reproducir el siguiente paper:\n",
        "\n",
        "https://arxiv.org/pdf/1508.06576.pdf\n",
        "\n",
        "El objetivo es transferir el estilo de una imagen dada a otra imagen distinta. \n",
        "\n",
        "Como hemos visto en clase, las primeras capas de una red convolucional se activan ante la presencia de ciertos patrones vinculados a detalles muy pequeños.\n",
        "\n",
        "A medida que avanzamos en las distintas capas de una red neuronal convolucional, los filtros se van activando a medida que detectan patrones de formas cada vez mas complejos.\n",
        "\n",
        "Lo que propone este paper es asignarle a la activación de las primeras capas de una red neuronal convolucional (por ejemplo VGG19) la definición del estilo y a la activación de las últimas capas de la red neuronal convolucional, la definición del contenido.\n",
        "\n",
        "La idea de este paper es, a partir de dos imágenes (una que aporte el estilo y otra que aporte el contenido) analizar cómo es la activación de las primeras capas para la imagen que aporta el estilo y cómo es la activación de las últimas capas de la red convolucional para la imagen que aporta el contenido. A partir de esto se intentará sintetizar una imagen que active los filtros de las primeras capas que se activaron con la imagen que aporta el estilo y los filtros de las últimas capas que se activaron con la imagen que aporta el contenido.\n",
        "\n",
        "A este procedimiento se lo denomina neural style transfer.\n",
        "\n",
        "# En este trabajo se deberá leer el paper mencionado y en base a ello, entender la implementación que se muestra a continuación y contestar preguntas sobre la misma.\n",
        "\n",
        "# Una metodología posible es hacer una lectura rápida del paper (aunque esto signifique no entender algunos detalles del mismo) y luego ir analizando el código y respondiendo las preguntas. A medida que se planteen las preguntas, volviendo a leer secciones específicas del paper terminará de entender los detalles que pudieran haber quedado pendientes.\n",
        "\n",
        "Lo primero que haremos es cargar dos imágenes, una que aporte el estilo y otra que aporte el contenido. A tal fin utilizaremos imágenes disponibles en la web."
      ]
    },
    {
      "cell_type": "code",
      "metadata": {
        "id": "kyHsa2t0SxZi",
        "colab": {
          "base_uri": "https://localhost:8080/"
        },
        "outputId": "34b79b80-b373-41f2-fb1f-6c8d654d4761"
      },
      "source": [
        "# Imagen para estilo\n",
        "#!wget https://upload.wikimedia.org/wikipedia/commons/5/52/La_noche_estrellada1.jpg\n",
        "\n",
        "!wget http://1.bp.blogspot.com/-t7VZKyYIyzk/UwGp54KlJkI/AAAAAAAAD9g/gtfiIA5hHKI/s1600/three-musicians-by-pablo-picasso-1342648771_b.jpg\n",
        "\n",
        "# Imagen para contenido\n",
        "#!wget https://upload.wikimedia.org/wikipedia/commons/thumb/f/f4/Neckarfront_T%C3%BCbingen_Mai_2017.jpg/775px-Neckarfront_T%C3%BCbingen_Mai_2017.jpg\n",
        "\n",
        "!wget https://upload.wikimedia.org/wikipedia/ru/7/7f/The_Beatles_-_Abbey_Road.jpg\n",
        "\n",
        "\n",
        "\n",
        "# Creamos el directorio para los archivos de salida\n",
        "!mkdir /content/output"
      ],
      "execution_count": null,
      "outputs": [
        {
          "output_type": "stream",
          "text": [
            "--2020-12-29 20:28:07--  http://1.bp.blogspot.com/-t7VZKyYIyzk/UwGp54KlJkI/AAAAAAAAD9g/gtfiIA5hHKI/s1600/three-musicians-by-pablo-picasso-1342648771_b.jpg\n",
            "Resolving 1.bp.blogspot.com (1.bp.blogspot.com)... 74.125.199.132, 2607:f8b0:400e:c02::84\n",
            "Connecting to 1.bp.blogspot.com (1.bp.blogspot.com)|74.125.199.132|:80... connected.\n",
            "HTTP request sent, awaiting response... 200 OK\n",
            "Length: 65135 (64K) [image/jpeg]\n",
            "Saving to: ‘three-musicians-by-pablo-picasso-1342648771_b.jpg’\n",
            "\n",
            "three-musicians-by- 100%[===================>]  63.61K  --.-KB/s    in 0s      \n",
            "\n",
            "2020-12-29 20:28:07 (128 MB/s) - ‘three-musicians-by-pablo-picasso-1342648771_b.jpg’ saved [65135/65135]\n",
            "\n",
            "--2020-12-29 20:28:07--  https://upload.wikimedia.org/wikipedia/ru/7/7f/The_Beatles_-_Abbey_Road.jpg\n",
            "Resolving upload.wikimedia.org (upload.wikimedia.org)... 198.35.26.112, 2620:0:863:ed1a::2:b\n",
            "Connecting to upload.wikimedia.org (upload.wikimedia.org)|198.35.26.112|:443... connected.\n",
            "HTTP request sent, awaiting response... 200 OK\n",
            "Length: 288650 (282K) [image/jpeg]\n",
            "Saving to: ‘The_Beatles_-_Abbey_Road.jpg’\n",
            "\n",
            "The_Beatles_-_Abbey 100%[===================>] 281.88K  --.-KB/s    in 0.1s    \n",
            "\n",
            "2020-12-29 20:28:08 (2.30 MB/s) - ‘The_Beatles_-_Abbey_Road.jpg’ saved [288650/288650]\n",
            "\n"
          ],
          "name": "stdout"
        }
      ]
    },
    {
      "cell_type": "code",
      "metadata": {
        "id": "2oSeaWeug5rb",
        "colab": {
          "base_uri": "https://localhost:8080/"
        },
        "outputId": "f116cef3-3170-4f3d-ba19-0cc008b8da9c"
      },
      "source": [
        "%tensorflow_version 1.x   # en Collab"
      ],
      "execution_count": null,
      "outputs": [
        {
          "output_type": "stream",
          "text": [
            "`%tensorflow_version` only switches the major version: 1.x or 2.x.\n",
            "You set: `1.x   # en Collab`. This will be interpreted as: `1.x`.\n",
            "\n",
            "\n",
            "TensorFlow 1.x selected.\n"
          ],
          "name": "stdout"
        }
      ]
    },
    {
      "cell_type": "code",
      "metadata": {
        "id": "NIxH20o2eFoc",
        "colab": {
          "base_uri": "https://localhost:8080/"
        },
        "outputId": "b4c75e05-a20d-4cb9-c58c-dc984f73dc61"
      },
      "source": [
        "from keras.preprocessing.image import load_img, save_img, img_to_array\n",
        "import numpy as np\n",
        "from scipy.optimize import fmin_l_bfgs_b\n",
        "import time\n",
        "import argparse\n",
        "\n",
        "from keras.applications import vgg19\n",
        "from keras import backend as K\n",
        "from pathlib import Path"
      ],
      "execution_count": null,
      "outputs": [
        {
          "output_type": "stream",
          "text": [
            "Using TensorFlow backend.\n"
          ],
          "name": "stderr"
        }
      ]
    },
    {
      "cell_type": "code",
      "metadata": {
        "id": "iLkV1bnFl_tK"
      },
      "source": [
        "# Definimos las imagenes que vamos a utilizar, y el directorio de salida\n",
        "\n",
        "base_image_path = Path(\"/content/The_Beatles_-_Abbey_Road.jpg\")\n",
        "style_reference_image_path = Path(\"/content/three-musicians-by-pablo-picasso-1342648771_b.jpg\")\n",
        "result_prefix = Path(\"/content/output\")\n",
        "iterations = 100"
      ],
      "execution_count": null,
      "outputs": []
    },
    {
      "cell_type": "markdown",
      "metadata": {
        "id": "Gz2PeGfpeYzj"
      },
      "source": [
        "# 1) En base a lo visto en el paper ¿Qué significan los parámetros definidos en la siguiente celda?\n",
        "\n",
        "Respuesta:\n",
        "\n",
        "total_variation_weight: regula el ruido que tendrá la imagen final de forma de suavizar su presencia. En definitiva, representa el peso de la loss de suavizado.\n",
        "\n",
        "content_weight: determina el peso que tendrá la imagen de contenido en la imagen de salida. Mientras mayor sea el peso, mayor importancia se le dará a la extracción de características de la imagen de contenido para que sean transferidas a la imagen final. En definitiva, representa el peso de la Loss de Content dentro de la funcion de pérdida total.\n",
        "\n",
        "style_weight: determina la importancia que tendrá la imagen de estilo en la imagen de salida. Mientras mayor sea el peso, mayor importancia se le dará a la extracción de características de la imagen de estilo para que sean transferidas a la imagen final. En definitiva, representa el peso de la Loss de Style dentro de la funcion de pérdida total.\n"
      ]
    },
    {
      "cell_type": "code",
      "metadata": {
        "id": "P9Dt3aaEmJWS"
      },
      "source": [
        "total_variation_weight = 0.1\n",
        "style_weight = 1\n",
        "content_weight = 100"
      ],
      "execution_count": null,
      "outputs": []
    },
    {
      "cell_type": "code",
      "metadata": {
        "id": "CQQJOhCVuse6"
      },
      "source": [
        "# Definimos el tamaño de las imágenes a utilizar\n",
        "width, height = load_img(base_image_path).size\n",
        "img_nrows = 400\n",
        "img_ncols = int(width * img_nrows / height)"
      ],
      "execution_count": null,
      "outputs": []
    },
    {
      "cell_type": "markdown",
      "metadata": {
        "id": "gg2ct-8agm1E"
      },
      "source": [
        "# 2) Explicar qué hace la siguiente celda. En especial las últimas dos líneas de la función antes del return. ¿Por qué?\n",
        "\n",
        "Ayuda: https://keras.io/applications/\n",
        "\n",
        "Respuesta:\n",
        "\n",
        "La siguiente celda se encarga del preprocesamiento de las imágenes de forma tal de darle a las mismas el formato que necesita la red, realizando para tal fin las siguientes tareas:\n",
        "\n",
        "-load_img: carga la imagen y le da el tamaño definido por la dimension img_nrows x img_ncols\n",
        "\n",
        "-img_to_array: convierte la imagen cargada en un array que tendrá en cuenta la cantidad de canales, en este caso, 3. De esta forma el array tendrá la dimensión img_nrows x img_ncols x 3\n",
        "\n",
        "-expand_dims: Dado que Keras procesa imágenes en batch, expand_dims se encarga de sumarle una dimension al array (1 x img_nrows x img_ncols x 3)\n",
        "\n",
        "-preprocess_input: convierte el array de RGB a BGR siendo este el formato que espera la VGG19. Dado que la VGG19 se entrenó con el dataset de ImageNet, en esta tarea se realiza una normalizacion de los canales restando la media de los valores de dicho dataset."
      ]
    },
    {
      "cell_type": "code",
      "metadata": {
        "id": "tAkljg4zuzYd"
      },
      "source": [
        "def preprocess_image(image_path):\n",
        "    img = load_img(image_path, target_size=(img_nrows, img_ncols))\n",
        "    img = img_to_array(img)\n",
        "    img = np.expand_dims(img, axis=0)\n",
        "    img = vgg19.preprocess_input(img)\n",
        "    return img"
      ],
      "execution_count": null,
      "outputs": []
    },
    {
      "cell_type": "markdown",
      "metadata": {
        "id": "KTf0YDSagt10"
      },
      "source": [
        "# 3) Habiendo comprendido lo que hace la celda anterior, explique de manera muy concisa qué hace la siguiente celda. ¿Qué relación tiene con la celda anterior?\n",
        "\n",
        "Respuesta:\n",
        "La siguiente celda se encarga de deprocesar las imágenes siguiendo la inversa de lo que se hizo en la celda anterior mediante estas tareas:\n",
        "\n",
        "-Transformación de la imagen en un array de dimension img_rows x img_cols x 3, es decir, el array ya no tiene en cuenta la componente batch size y solo refleja alto,ancho, canales.\n",
        "\n",
        "-Desnormalización de  cada canal sumándole la media de cada uno de los canales del dataset ImageNet\n",
        "\n",
        "-Conversión de las imagenes de RGB a BGR\n",
        "\n",
        "-Nos aseguramos que los valores estén comprendidos entre 0 y 255."
      ]
    },
    {
      "cell_type": "code",
      "metadata": {
        "id": "y5LaTrsAu14z"
      },
      "source": [
        "def deprocess_image(x):\n",
        "    x = x.reshape((img_nrows, img_ncols, 3))\n",
        "    # Remove zero-center by mean pixel\n",
        "    x[:, :, 0] += 103.939\n",
        "    x[:, :, 1] += 116.779\n",
        "    x[:, :, 2] += 123.68\n",
        "    # 'BGR'->'RGB'\n",
        "    x = x[:, :, ::-1]\n",
        "    x = np.clip(x, 0, 255).astype('uint8')\n",
        "    return x"
      ],
      "execution_count": null,
      "outputs": []
    },
    {
      "cell_type": "code",
      "metadata": {
        "id": "HYNio09mu4S3",
        "colab": {
          "base_uri": "https://localhost:8080/"
        },
        "outputId": "81d7fbf6-342b-4783-abc8-b3e07792cec7"
      },
      "source": [
        "# get tensor representations of our images\n",
        "# K.variable convierte un numpy array en un tensor, para \n",
        "base_image = K.variable(preprocess_image(base_image_path))\n",
        "style_reference_image = K.variable(preprocess_image(style_reference_image_path))"
      ],
      "execution_count": null,
      "outputs": [
        {
          "output_type": "stream",
          "text": [
            "WARNING:tensorflow:From /tensorflow-1.15.2/python3.6/tensorflow_core/python/ops/resource_variable_ops.py:1630: calling BaseResourceVariable.__init__ (from tensorflow.python.ops.resource_variable_ops) with constraint is deprecated and will be removed in a future version.\n",
            "Instructions for updating:\n",
            "If using Keras pass *_constraint arguments to layers.\n"
          ],
          "name": "stdout"
        }
      ]
    },
    {
      "cell_type": "code",
      "metadata": {
        "id": "a1Lbw02Uu--o"
      },
      "source": [
        "combination_image = K.placeholder((1, img_nrows, img_ncols, 3))"
      ],
      "execution_count": null,
      "outputs": []
    },
    {
      "cell_type": "markdown",
      "metadata": {
        "id": "RJEi0YI3Uzrm"
      },
      "source": [
        "Aclaración:\n",
        "\n",
        "La siguiente celda sirve para procesar las tres imagenes (contenido, estilo y salida) en un solo batch."
      ]
    },
    {
      "cell_type": "code",
      "metadata": {
        "id": "gGO_jGFfvEbF"
      },
      "source": [
        "# combine the 3 images into a single Keras tensor\n",
        "input_tensor = K.concatenate([base_image,\n",
        "                              style_reference_image,\n",
        "                              combination_image], axis=0)"
      ],
      "execution_count": null,
      "outputs": []
    },
    {
      "cell_type": "code",
      "metadata": {
        "id": "tdG59VRavHGB",
        "colab": {
          "base_uri": "https://localhost:8080/"
        },
        "outputId": "69ed9a4c-326f-4a02-c98c-3d62d9f0887a"
      },
      "source": [
        "# build the VGG19 network with our 3 images as input\n",
        "# the model will be loaded with pre-trained ImageNet weights\n",
        "model = vgg19.VGG19(input_tensor=input_tensor,\n",
        "                    weights='imagenet', include_top=False)\n",
        "print('Model loaded.')\n",
        "\n",
        "# get the symbolic outputs of each \"key\" layer (we gave them unique names).\n",
        "outputs_dict = dict([(layer.name, layer.output) for layer in model.layers])"
      ],
      "execution_count": null,
      "outputs": [
        {
          "output_type": "stream",
          "text": [
            "WARNING:tensorflow:From /tensorflow-1.15.2/python3.6/keras/backend/tensorflow_backend.py:4070: The name tf.nn.max_pool is deprecated. Please use tf.nn.max_pool2d instead.\n",
            "\n",
            "Downloading data from https://github.com/fchollet/deep-learning-models/releases/download/v0.1/vgg19_weights_tf_dim_ordering_tf_kernels_notop.h5\n",
            "80142336/80134624 [==============================] - 2s 0us/step\n",
            "Model loaded.\n"
          ],
          "name": "stdout"
        }
      ]
    },
    {
      "cell_type": "markdown",
      "metadata": {
        "id": "70-vs_jZkKVc"
      },
      "source": [
        "# 4) En la siguientes celdas:\n",
        "\n",
        "- ¿Qué es la matriz de Gram?¿Para qué se usa?\n",
        "- ¿Por qué se permutan las dimensiones de x?\n",
        "\n",
        "La matriz de Gram es aquella obtenida por el producto punto entre los vectores de las activaciones de los filtros de forma tal que puede reflejar la correlación que hay entre los filtros. Si el producto escalar entre los vectores es grande, se dice que los filtros están correlacionados y si es pequeño, los filtros no están correlacionados. La matriz de Gram es usada para buscar las coincidencias entre las correlaciones de la imagen de estilo y la imagen de salida. Esto se logra minimizando la distancia media cuadrática de las entradas de la matriz de Gram de la imagen de estilo original y la imagen de salida\n",
        "\n",
        "El cálculo de la Matriz de Gram necesita trabajar con matrices de dos dimensiones. Mediante el comando batch_flatten logramos aplanar una matriz de n dimensiones a una matriz de dos dimensiones. Así, por ejemplo, si x tuviera una dimension de 56x56x256, donde 256 se refiere a la cantidad de filtros, con el comando permute_dimensions x pasaría a tener una dimension de 256x56x56 que finalmente, gracias al batch_flatten, la dimensión terminará siendo 256x3136. De esta forma, la función permute_dimension  nos servirà para organizar las matrices antes de aplanarlas."
      ]
    },
    {
      "cell_type": "code",
      "metadata": {
        "id": "K1FODPATvJ1k"
      },
      "source": [
        "def gram_matrix(x):\n",
        "    features = K.batch_flatten(K.permute_dimensions(x, (2, 0, 1)))\n",
        "    gram = K.dot(features, K.transpose(features))\n",
        "    return gram"
      ],
      "execution_count": null,
      "outputs": []
    },
    {
      "cell_type": "markdown",
      "metadata": {
        "id": "vBQkKFY0Rbx-"
      },
      "source": [
        "# 5) Losses:\n",
        "\n",
        "Explicar qué mide cada una de las losses en las siguientes tres celdas.\n",
        "\n",
        "Rta:\n",
        "\n",
        "style_loss: es la función de pérdida de estilo. Nos indica qué tan similar es la imagen de salida a la imagen se estilo. La función de pérdida entre el estilo de la imagen de estilo y la imagen de salida se calcula como el cuadrado de la diferencia entre la matriz de Gram de la imagen de estilo y la matriz de Gram de la imagen de salida.\n",
        "\n",
        "content_loss: representa la función de pérdida de contenido. Para el cálculo de la pérdida de contenido  se usa función de error cuadrado que mide la diferencia en las características del contenido entre la imagen de salida y la imagen del contenido\n",
        "\n",
        "total_variation_loss: calcula la variación entre los valores de píxeles vecinos de la imagen de salida buscando suavizar el ruido , ya sea por presencia de pixeles muy brillantes u oscuros, de forma tal que los valores de los píxeles vecinos sean lo más parecidos posible."
      ]
    },
    {
      "cell_type": "code",
      "metadata": {
        "id": "1-Gt0ahWvN6q"
      },
      "source": [
        "def style_loss(style, combination):\n",
        "    assert K.ndim(style) == 3\n",
        "    assert K.ndim(combination) == 3\n",
        "    S = gram_matrix(style)\n",
        "    C = gram_matrix(combination)\n",
        "    channels = 3\n",
        "    size = img_nrows * img_ncols\n",
        "    return K.sum(K.square(S - C)) / (4.0 * (channels ** 2) * (size ** 2))"
      ],
      "execution_count": null,
      "outputs": []
    },
    {
      "cell_type": "code",
      "metadata": {
        "id": "XCqnju5RvQCo"
      },
      "source": [
        "def content_loss(base, combination):\n",
        "    return K.sum(K.square(combination - base))\n"
      ],
      "execution_count": null,
      "outputs": []
    },
    {
      "cell_type": "code",
      "metadata": {
        "id": "udEp5h31vRnY"
      },
      "source": [
        "def total_variation_loss(x):\n",
        "    assert K.ndim(x) == 4\n",
        "    a = K.square(\n",
        "        x[:, :img_nrows - 1, :img_ncols - 1, :] - x[:, 1:, :img_ncols - 1, :])\n",
        "    b = K.square(\n",
        "        x[:, :img_nrows - 1, :img_ncols - 1, :] - x[:, :img_nrows - 1, 1:, :])\n",
        "    return K.sum(K.pow(a + b, 1.25))\n"
      ],
      "execution_count": null,
      "outputs": []
    },
    {
      "cell_type": "code",
      "metadata": {
        "id": "-65vcinbvTZ0"
      },
      "source": [
        "# Armamos la loss total\n",
        "loss = K.variable(0.0)\n",
        "layer_features = outputs_dict['block5_conv2']\n",
        "base_image_features = layer_features[0, :, :, :]\n",
        "combination_features = layer_features[2, :, :, :]\n",
        "loss = loss + content_weight * content_loss(base_image_features,\n",
        "                                            combination_features)\n",
        "\n",
        "feature_layers = ['block1_conv1', 'block2_conv1',\n",
        "                  'block3_conv1', 'block4_conv1',\n",
        "                  'block5_conv1']\n",
        "for layer_name in feature_layers:\n",
        "    layer_features = outputs_dict[layer_name]\n",
        "    style_reference_features = layer_features[1, :, :, :] \n",
        "    combination_features = layer_features[2, :, :, :]\n",
        "    sl = style_loss(style_reference_features, combination_features)\n",
        "    loss = loss + (style_weight / len(feature_layers)) * sl\n",
        "loss = loss + total_variation_weight * total_variation_loss(combination_image)"
      ],
      "execution_count": null,
      "outputs": []
    },
    {
      "cell_type": "code",
      "metadata": {
        "id": "pbz4n1OhvV2K",
        "colab": {
          "base_uri": "https://localhost:8080/"
        },
        "outputId": "b1b567ef-17b4-4721-9fb2-4644b7b6fe91"
      },
      "source": [
        "grads = K.gradients(loss, combination_image)\n",
        "\n",
        "outputs = [loss]\n",
        "if isinstance(grads, (list, tuple)):\n",
        "    outputs += grads\n",
        "else:\n",
        "    outputs.append(grads)\n",
        "\n",
        "f_outputs = K.function([combination_image], outputs)"
      ],
      "execution_count": null,
      "outputs": [
        {
          "output_type": "stream",
          "text": [
            "WARNING:tensorflow:From /tensorflow-1.15.2/python3.6/tensorflow_core/python/ops/math_grad.py:1375: where (from tensorflow.python.ops.array_ops) is deprecated and will be removed in a future version.\n",
            "Instructions for updating:\n",
            "Use tf.where in 2.0, which has the same broadcast rule as np.where\n",
            "WARNING:tensorflow:From /tensorflow-1.15.2/python3.6/keras/backend/tensorflow_backend.py:422: The name tf.global_variables is deprecated. Please use tf.compat.v1.global_variables instead.\n",
            "\n"
          ],
          "name": "stdout"
        }
      ]
    },
    {
      "cell_type": "markdown",
      "metadata": {
        "id": "1JbydbOaVcvU"
      },
      "source": [
        "# 6) Explique el propósito de las siguientes tres celdas. ¿Qué hace la función fmin_l_bfgs_b? ¿En qué se diferencia con la implementación del paper? ¿Se puede utilizar alguna alternativa?\n",
        "\n",
        "Respuesta:\n",
        "\n",
        "Evaluator es una clase que calcula el valor de las pérdidas y el valor de los gradientes en un solo paso para evitar que se calculen de forma independiente y así poder lograr un cálculo mas eficiente.  Para obtener los valores se usan dos funciones: por un lado la función loss y, por otro lado, la función  grads. Se usan dos funciones por separado para pérdidas y para gradientes porque asi lo requiere el optimizador L-BFGS que se utiliza para minimizar la funcion de costo. Dicho optimizador, el cual proviene de la librería SciPy y lo invocamos con la función fmin_l_bfgs_b, trabaja con vectores planos y, por esta razon, es que utilizamos el flatten dentro de la función eval_loss_and_ grads que devuelve los valores para las pérdidas y los gradientes.\n",
        "\n",
        "El paper de Gatys propone el algoritmo BFGS como optimizador. Dicho algoritmo usa la segunda derivada (hessiana) para minimizar la función de costo. Como la segunda derivada es costosa de calcular, se implementa el algoritmo BFGS de memoria limitada L-BFGS el cual utiliza una aproximación del hessiano.\n",
        "\n",
        "Como alternativa al uso del optimizador L-BFGS, se pueden mencionar otros como ADAM sin embargo siempre resulta mejor posicionado L-BFGS. En esta URL https://blog.slavv.com/picking-an-optimizer-for-style-transfer-86e7b8cba84b es posible vizualizar una comparativa de la perfomance de L-BFGS contra otros optimizadores   "
      ]
    },
    {
      "cell_type": "code",
      "metadata": {
        "id": "zVE1_qemvZeN"
      },
      "source": [
        "def eval_loss_and_grads(x):\n",
        "    x = x.reshape((1, img_nrows, img_ncols, 3))\n",
        "    outs = f_outputs([x])\n",
        "    loss_value = outs[0]\n",
        "    if len(outs[1:]) == 1:\n",
        "        grad_values = outs[1].flatten().astype('float64')\n",
        "    else:\n",
        "        grad_values = np.array(outs[1:]).flatten().astype('float64')\n",
        "    return loss_value, grad_values\n",
        "\n",
        "# this Evaluator class makes it possible\n",
        "# to compute loss and gradients in one pass\n",
        "# while retrieving them via two separate functions,\n",
        "# \"loss\" and \"grads\". This is done because scipy.optimize\n",
        "# requires separate functions for loss and gradients,\n",
        "# but computing them separately would be inefficient."
      ],
      "execution_count": null,
      "outputs": []
    },
    {
      "cell_type": "code",
      "metadata": {
        "id": "Qbl9roIgvdb1"
      },
      "source": [
        "class Evaluator(object):\n",
        "\n",
        "    def __init__(self):\n",
        "        self.loss_value = None\n",
        "        self.grads_values = None\n",
        "\n",
        "    def loss(self, x):\n",
        "        assert self.loss_value is None\n",
        "        loss_value, grad_values = eval_loss_and_grads(x)\n",
        "        self.loss_value = loss_value\n",
        "        self.grad_values = grad_values\n",
        "        return self.loss_value\n",
        "\n",
        "    def grads(self, x):\n",
        "        assert self.loss_value is not None\n",
        "        grad_values = np.copy(self.grad_values)\n",
        "        self.loss_value = None\n",
        "        self.grad_values = None\n",
        "        return grad_values"
      ],
      "execution_count": null,
      "outputs": []
    },
    {
      "cell_type": "markdown",
      "metadata": {
        "id": "Sb0yOEl-WOE6"
      },
      "source": [
        "# 7) Ejecute la siguiente celda y observe las imágenes de salida en cada iteración."
      ]
    },
    {
      "cell_type": "code",
      "metadata": {
        "id": "n31YBwCVvhAI",
        "colab": {
          "base_uri": "https://localhost:8080/"
        },
        "outputId": "a31ac04c-5bd9-4efb-8499-f8d79bb54fa4"
      },
      "source": [
        "evaluator = Evaluator()\n",
        "\n",
        "# run scipy-based optimization (L-BFGS) over the pixels of the generated image\n",
        "# so as to minimize the neural style loss\n",
        "x = preprocess_image(base_image_path)\n",
        "\n",
        "for i in range(iterations):\n",
        "    print('Start of iteration', i)\n",
        "    start_time = time.time()\n",
        "    x, min_val, info = fmin_l_bfgs_b(evaluator.loss, x.flatten(),\n",
        "                                     fprime=evaluator.grads, maxfun=20)\n",
        "    print('Current loss value:', min_val)\n",
        "    # save current generated image\n",
        "    img = deprocess_image(x.copy())\n",
        "    fname = result_prefix / ('output_at_iteration_%d.png' % i)\n",
        "    save_img(fname, img)\n",
        "    end_time = time.time()\n",
        "    print('Image saved as', fname)\n",
        "    print('Iteration %d completed in %ds' % (i, end_time - start_time))"
      ],
      "execution_count": null,
      "outputs": [
        {
          "output_type": "stream",
          "text": [
            "Start of iteration 0\n",
            "Current loss value: 21859017000.0\n",
            "Image saved as /content/output/output_at_iteration_0.png\n",
            "Iteration 0 completed in 14s\n",
            "Start of iteration 1\n",
            "Current loss value: 14603633000.0\n",
            "Image saved as /content/output/output_at_iteration_1.png\n",
            "Iteration 1 completed in 4s\n",
            "Start of iteration 2\n",
            "Current loss value: 11776477000.0\n",
            "Image saved as /content/output/output_at_iteration_2.png\n",
            "Iteration 2 completed in 4s\n",
            "Start of iteration 3\n",
            "Current loss value: 10405878000.0\n",
            "Image saved as /content/output/output_at_iteration_3.png\n",
            "Iteration 3 completed in 4s\n",
            "Start of iteration 4\n",
            "Current loss value: 9563857000.0\n",
            "Image saved as /content/output/output_at_iteration_4.png\n",
            "Iteration 4 completed in 4s\n",
            "Start of iteration 5\n",
            "Current loss value: 9007344000.0\n",
            "Image saved as /content/output/output_at_iteration_5.png\n",
            "Iteration 5 completed in 4s\n",
            "Start of iteration 6\n",
            "Current loss value: 8587730400.0\n",
            "Image saved as /content/output/output_at_iteration_6.png\n",
            "Iteration 6 completed in 4s\n",
            "Start of iteration 7\n",
            "Current loss value: 8269888000.0\n",
            "Image saved as /content/output/output_at_iteration_7.png\n",
            "Iteration 7 completed in 4s\n",
            "Start of iteration 8\n",
            "Current loss value: 8004736500.0\n",
            "Image saved as /content/output/output_at_iteration_8.png\n",
            "Iteration 8 completed in 4s\n",
            "Start of iteration 9\n",
            "Current loss value: 7788899300.0\n",
            "Image saved as /content/output/output_at_iteration_9.png\n",
            "Iteration 9 completed in 4s\n",
            "Start of iteration 10\n",
            "Current loss value: 7601263600.0\n",
            "Image saved as /content/output/output_at_iteration_10.png\n",
            "Iteration 10 completed in 5s\n",
            "Start of iteration 11\n",
            "Current loss value: 7436010500.0\n",
            "Image saved as /content/output/output_at_iteration_11.png\n",
            "Iteration 11 completed in 5s\n",
            "Start of iteration 12\n",
            "Current loss value: 7292050400.0\n",
            "Image saved as /content/output/output_at_iteration_12.png\n",
            "Iteration 12 completed in 5s\n",
            "Start of iteration 13\n",
            "Current loss value: 7163342300.0\n",
            "Image saved as /content/output/output_at_iteration_13.png\n",
            "Iteration 13 completed in 4s\n",
            "Start of iteration 14\n",
            "Current loss value: 7052251000.0\n",
            "Image saved as /content/output/output_at_iteration_14.png\n",
            "Iteration 14 completed in 5s\n",
            "Start of iteration 15\n",
            "Current loss value: 6955107300.0\n",
            "Image saved as /content/output/output_at_iteration_15.png\n",
            "Iteration 15 completed in 5s\n",
            "Start of iteration 16\n",
            "Current loss value: 6867416600.0\n",
            "Image saved as /content/output/output_at_iteration_16.png\n",
            "Iteration 16 completed in 5s\n",
            "Start of iteration 17\n",
            "Current loss value: 6787205600.0\n",
            "Image saved as /content/output/output_at_iteration_17.png\n",
            "Iteration 17 completed in 5s\n",
            "Start of iteration 18\n",
            "Current loss value: 6711606000.0\n",
            "Image saved as /content/output/output_at_iteration_18.png\n",
            "Iteration 18 completed in 5s\n",
            "Start of iteration 19\n",
            "Current loss value: 6641797600.0\n",
            "Image saved as /content/output/output_at_iteration_19.png\n",
            "Iteration 19 completed in 5s\n",
            "Start of iteration 20\n",
            "Current loss value: 6575949300.0\n",
            "Image saved as /content/output/output_at_iteration_20.png\n",
            "Iteration 20 completed in 5s\n",
            "Start of iteration 21\n",
            "Current loss value: 6517644300.0\n",
            "Image saved as /content/output/output_at_iteration_21.png\n",
            "Iteration 21 completed in 5s\n",
            "Start of iteration 22\n",
            "Current loss value: 6462514000.0\n",
            "Image saved as /content/output/output_at_iteration_22.png\n",
            "Iteration 22 completed in 5s\n",
            "Start of iteration 23\n",
            "Current loss value: 6412501000.0\n",
            "Image saved as /content/output/output_at_iteration_23.png\n",
            "Iteration 23 completed in 5s\n",
            "Start of iteration 24\n",
            "Current loss value: 6365037000.0\n",
            "Image saved as /content/output/output_at_iteration_24.png\n",
            "Iteration 24 completed in 5s\n",
            "Start of iteration 25\n",
            "Current loss value: 6320725500.0\n",
            "Image saved as /content/output/output_at_iteration_25.png\n",
            "Iteration 25 completed in 5s\n",
            "Start of iteration 26\n",
            "Current loss value: 6278248000.0\n",
            "Image saved as /content/output/output_at_iteration_26.png\n",
            "Iteration 26 completed in 5s\n",
            "Start of iteration 27\n",
            "Current loss value: 6237689300.0\n",
            "Image saved as /content/output/output_at_iteration_27.png\n",
            "Iteration 27 completed in 5s\n",
            "Start of iteration 28\n",
            "Current loss value: 6199930000.0\n",
            "Image saved as /content/output/output_at_iteration_28.png\n",
            "Iteration 28 completed in 5s\n",
            "Start of iteration 29\n",
            "Current loss value: 6164401000.0\n",
            "Image saved as /content/output/output_at_iteration_29.png\n",
            "Iteration 29 completed in 5s\n",
            "Start of iteration 30\n",
            "Current loss value: 6129231400.0\n",
            "Image saved as /content/output/output_at_iteration_30.png\n",
            "Iteration 30 completed in 5s\n",
            "Start of iteration 31\n",
            "Current loss value: 6096014000.0\n",
            "Image saved as /content/output/output_at_iteration_31.png\n",
            "Iteration 31 completed in 5s\n",
            "Start of iteration 32\n",
            "Current loss value: 6064593400.0\n",
            "Image saved as /content/output/output_at_iteration_32.png\n",
            "Iteration 32 completed in 5s\n",
            "Start of iteration 33\n",
            "Current loss value: 6035129300.0\n",
            "Image saved as /content/output/output_at_iteration_33.png\n",
            "Iteration 33 completed in 5s\n",
            "Start of iteration 34\n",
            "Current loss value: 6007043600.0\n",
            "Image saved as /content/output/output_at_iteration_34.png\n",
            "Iteration 34 completed in 5s\n",
            "Start of iteration 35\n",
            "Current loss value: 5980911000.0\n",
            "Image saved as /content/output/output_at_iteration_35.png\n",
            "Iteration 35 completed in 5s\n",
            "Start of iteration 36\n",
            "Current loss value: 5955691000.0\n",
            "Image saved as /content/output/output_at_iteration_36.png\n",
            "Iteration 36 completed in 5s\n",
            "Start of iteration 37\n",
            "Current loss value: 5931952600.0\n",
            "Image saved as /content/output/output_at_iteration_37.png\n",
            "Iteration 37 completed in 5s\n",
            "Start of iteration 38\n",
            "Current loss value: 5910076400.0\n",
            "Image saved as /content/output/output_at_iteration_38.png\n",
            "Iteration 38 completed in 5s\n",
            "Start of iteration 39\n",
            "Current loss value: 5889310000.0\n",
            "Image saved as /content/output/output_at_iteration_39.png\n",
            "Iteration 39 completed in 5s\n",
            "Start of iteration 40\n",
            "Current loss value: 5869804000.0\n",
            "Image saved as /content/output/output_at_iteration_40.png\n",
            "Iteration 40 completed in 5s\n",
            "Start of iteration 41\n",
            "Current loss value: 5850472000.0\n",
            "Image saved as /content/output/output_at_iteration_41.png\n",
            "Iteration 41 completed in 5s\n",
            "Start of iteration 42\n",
            "Current loss value: 5832159700.0\n",
            "Image saved as /content/output/output_at_iteration_42.png\n",
            "Iteration 42 completed in 5s\n",
            "Start of iteration 43\n",
            "Current loss value: 5814427000.0\n",
            "Image saved as /content/output/output_at_iteration_43.png\n",
            "Iteration 43 completed in 5s\n",
            "Start of iteration 44\n",
            "Current loss value: 5797517000.0\n",
            "Image saved as /content/output/output_at_iteration_44.png\n",
            "Iteration 44 completed in 5s\n",
            "Start of iteration 45\n",
            "Current loss value: 5781512000.0\n",
            "Image saved as /content/output/output_at_iteration_45.png\n",
            "Iteration 45 completed in 5s\n",
            "Start of iteration 46\n",
            "Current loss value: 5766725600.0\n",
            "Image saved as /content/output/output_at_iteration_46.png\n",
            "Iteration 46 completed in 5s\n",
            "Start of iteration 47\n",
            "Current loss value: 5752414000.0\n",
            "Image saved as /content/output/output_at_iteration_47.png\n",
            "Iteration 47 completed in 5s\n",
            "Start of iteration 48\n",
            "Current loss value: 5737972700.0\n",
            "Image saved as /content/output/output_at_iteration_48.png\n",
            "Iteration 48 completed in 5s\n",
            "Start of iteration 49\n",
            "Current loss value: 5724917000.0\n",
            "Image saved as /content/output/output_at_iteration_49.png\n",
            "Iteration 49 completed in 5s\n",
            "Start of iteration 50\n",
            "Current loss value: 5711609300.0\n",
            "Image saved as /content/output/output_at_iteration_50.png\n",
            "Iteration 50 completed in 5s\n",
            "Start of iteration 51\n",
            "Current loss value: 5699411500.0\n",
            "Image saved as /content/output/output_at_iteration_51.png\n",
            "Iteration 51 completed in 5s\n",
            "Start of iteration 52\n",
            "Current loss value: 5688004000.0\n",
            "Image saved as /content/output/output_at_iteration_52.png\n",
            "Iteration 52 completed in 5s\n",
            "Start of iteration 53\n",
            "Current loss value: 5676316700.0\n",
            "Image saved as /content/output/output_at_iteration_53.png\n",
            "Iteration 53 completed in 5s\n",
            "Start of iteration 54\n",
            "Current loss value: 5665239000.0\n",
            "Image saved as /content/output/output_at_iteration_54.png\n",
            "Iteration 54 completed in 5s\n",
            "Start of iteration 55\n",
            "Current loss value: 5654889000.0\n",
            "Image saved as /content/output/output_at_iteration_55.png\n",
            "Iteration 55 completed in 5s\n",
            "Start of iteration 56\n",
            "Current loss value: 5645206000.0\n",
            "Image saved as /content/output/output_at_iteration_56.png\n",
            "Iteration 56 completed in 5s\n",
            "Start of iteration 57\n",
            "Current loss value: 5635717600.0\n",
            "Image saved as /content/output/output_at_iteration_57.png\n",
            "Iteration 57 completed in 5s\n",
            "Start of iteration 58\n",
            "Current loss value: 5626619400.0\n",
            "Image saved as /content/output/output_at_iteration_58.png\n",
            "Iteration 58 completed in 5s\n",
            "Start of iteration 59\n",
            "Current loss value: 5618171400.0\n",
            "Image saved as /content/output/output_at_iteration_59.png\n",
            "Iteration 59 completed in 5s\n",
            "Start of iteration 60\n",
            "Current loss value: 5609851400.0\n",
            "Image saved as /content/output/output_at_iteration_60.png\n",
            "Iteration 60 completed in 5s\n",
            "Start of iteration 61\n",
            "Current loss value: 5601864000.0\n",
            "Image saved as /content/output/output_at_iteration_61.png\n",
            "Iteration 61 completed in 5s\n",
            "Start of iteration 62\n",
            "Current loss value: 5594035700.0\n",
            "Image saved as /content/output/output_at_iteration_62.png\n",
            "Iteration 62 completed in 5s\n",
            "Start of iteration 63\n",
            "Current loss value: 5586154500.0\n",
            "Image saved as /content/output/output_at_iteration_63.png\n",
            "Iteration 63 completed in 5s\n",
            "Start of iteration 64\n",
            "Current loss value: 5578589700.0\n",
            "Image saved as /content/output/output_at_iteration_64.png\n",
            "Iteration 64 completed in 5s\n",
            "Start of iteration 65\n",
            "Current loss value: 5570682000.0\n",
            "Image saved as /content/output/output_at_iteration_65.png\n",
            "Iteration 65 completed in 5s\n",
            "Start of iteration 66\n",
            "Current loss value: 5563339000.0\n",
            "Image saved as /content/output/output_at_iteration_66.png\n",
            "Iteration 66 completed in 5s\n",
            "Start of iteration 67\n",
            "Current loss value: 5556143000.0\n",
            "Image saved as /content/output/output_at_iteration_67.png\n",
            "Iteration 67 completed in 5s\n",
            "Start of iteration 68\n",
            "Current loss value: 5549348000.0\n",
            "Image saved as /content/output/output_at_iteration_68.png\n",
            "Iteration 68 completed in 5s\n",
            "Start of iteration 69\n",
            "Current loss value: 5542514700.0\n",
            "Image saved as /content/output/output_at_iteration_69.png\n",
            "Iteration 69 completed in 5s\n",
            "Start of iteration 70\n",
            "Current loss value: 5536034300.0\n",
            "Image saved as /content/output/output_at_iteration_70.png\n",
            "Iteration 70 completed in 5s\n",
            "Start of iteration 71\n",
            "Current loss value: 5529466000.0\n",
            "Image saved as /content/output/output_at_iteration_71.png\n",
            "Iteration 71 completed in 5s\n",
            "Start of iteration 72\n",
            "Current loss value: 5523154000.0\n",
            "Image saved as /content/output/output_at_iteration_72.png\n",
            "Iteration 72 completed in 5s\n",
            "Start of iteration 73\n",
            "Current loss value: 5516970000.0\n",
            "Image saved as /content/output/output_at_iteration_73.png\n",
            "Iteration 73 completed in 5s\n",
            "Start of iteration 74\n",
            "Current loss value: 5510515700.0\n",
            "Image saved as /content/output/output_at_iteration_74.png\n",
            "Iteration 74 completed in 5s\n",
            "Start of iteration 75\n",
            "Current loss value: 5504365600.0\n",
            "Image saved as /content/output/output_at_iteration_75.png\n",
            "Iteration 75 completed in 5s\n",
            "Start of iteration 76\n",
            "Current loss value: 5498458600.0\n",
            "Image saved as /content/output/output_at_iteration_76.png\n",
            "Iteration 76 completed in 5s\n",
            "Start of iteration 77\n",
            "Current loss value: 5492745000.0\n",
            "Image saved as /content/output/output_at_iteration_77.png\n",
            "Iteration 77 completed in 5s\n",
            "Start of iteration 78\n",
            "Current loss value: 5487524000.0\n",
            "Image saved as /content/output/output_at_iteration_78.png\n",
            "Iteration 78 completed in 5s\n",
            "Start of iteration 79\n",
            "Current loss value: 5481919000.0\n",
            "Image saved as /content/output/output_at_iteration_79.png\n",
            "Iteration 79 completed in 5s\n",
            "Start of iteration 80\n",
            "Current loss value: 5476777000.0\n",
            "Image saved as /content/output/output_at_iteration_80.png\n",
            "Iteration 80 completed in 5s\n",
            "Start of iteration 81\n",
            "Current loss value: 5471320000.0\n",
            "Image saved as /content/output/output_at_iteration_81.png\n",
            "Iteration 81 completed in 5s\n",
            "Start of iteration 82\n",
            "Current loss value: 5466161700.0\n",
            "Image saved as /content/output/output_at_iteration_82.png\n",
            "Iteration 82 completed in 5s\n",
            "Start of iteration 83\n",
            "Current loss value: 5460944000.0\n",
            "Image saved as /content/output/output_at_iteration_83.png\n",
            "Iteration 83 completed in 5s\n",
            "Start of iteration 84\n",
            "Current loss value: 5456101400.0\n",
            "Image saved as /content/output/output_at_iteration_84.png\n",
            "Iteration 84 completed in 5s\n",
            "Start of iteration 85\n",
            "Current loss value: 5451396000.0\n",
            "Image saved as /content/output/output_at_iteration_85.png\n",
            "Iteration 85 completed in 5s\n",
            "Start of iteration 86\n",
            "Current loss value: 5446994400.0\n",
            "Image saved as /content/output/output_at_iteration_86.png\n",
            "Iteration 86 completed in 5s\n",
            "Start of iteration 87\n",
            "Current loss value: 5443076600.0\n",
            "Image saved as /content/output/output_at_iteration_87.png\n",
            "Iteration 87 completed in 5s\n",
            "Start of iteration 88\n",
            "Current loss value: 5439059000.0\n",
            "Image saved as /content/output/output_at_iteration_88.png\n",
            "Iteration 88 completed in 5s\n",
            "Start of iteration 89\n",
            "Current loss value: 5434994000.0\n",
            "Image saved as /content/output/output_at_iteration_89.png\n",
            "Iteration 89 completed in 5s\n",
            "Start of iteration 90\n",
            "Current loss value: 5431030000.0\n",
            "Image saved as /content/output/output_at_iteration_90.png\n",
            "Iteration 90 completed in 5s\n",
            "Start of iteration 91\n",
            "Current loss value: 5426918400.0\n",
            "Image saved as /content/output/output_at_iteration_91.png\n",
            "Iteration 91 completed in 5s\n",
            "Start of iteration 92\n",
            "Current loss value: 5423173600.0\n",
            "Image saved as /content/output/output_at_iteration_92.png\n",
            "Iteration 92 completed in 5s\n",
            "Start of iteration 93\n",
            "Current loss value: 5419210000.0\n",
            "Image saved as /content/output/output_at_iteration_93.png\n",
            "Iteration 93 completed in 5s\n",
            "Start of iteration 94\n",
            "Current loss value: 5415642600.0\n",
            "Image saved as /content/output/output_at_iteration_94.png\n",
            "Iteration 94 completed in 5s\n",
            "Start of iteration 95\n",
            "Current loss value: 5411911700.0\n",
            "Image saved as /content/output/output_at_iteration_95.png\n",
            "Iteration 95 completed in 5s\n",
            "Start of iteration 96\n",
            "Current loss value: 5408627700.0\n",
            "Image saved as /content/output/output_at_iteration_96.png\n",
            "Iteration 96 completed in 5s\n",
            "Start of iteration 97\n",
            "Current loss value: 5405309000.0\n",
            "Image saved as /content/output/output_at_iteration_97.png\n",
            "Iteration 97 completed in 5s\n",
            "Start of iteration 98\n",
            "Current loss value: 5402049500.0\n",
            "Image saved as /content/output/output_at_iteration_98.png\n",
            "Iteration 98 completed in 5s\n",
            "Start of iteration 99\n",
            "Current loss value: 5398816000.0\n",
            "Image saved as /content/output/output_at_iteration_99.png\n",
            "Iteration 99 completed in 5s\n"
          ],
          "name": "stdout"
        }
      ]
    },
    {
      "cell_type": "code",
      "metadata": {
        "id": "l2vA_5B0hT3e",
        "colab": {
          "base_uri": "https://localhost:8080/"
        },
        "outputId": "5c863281-498d-49f7-d312-0b49b3cbd40d"
      },
      "source": [
        "from google.colab import drive\n",
        "drive.mount('/content/drive')"
      ],
      "execution_count": null,
      "outputs": [
        {
          "output_type": "stream",
          "text": [
            "Mounted at /content/drive\n"
          ],
          "name": "stdout"
        }
      ]
    },
    {
      "cell_type": "code",
      "metadata": {
        "id": "RErF0ZETlyAa",
        "colab": {
          "base_uri": "https://localhost:8080/"
        },
        "outputId": "fe1e19aa-c16f-4c69-b596-789c52f82556"
      },
      "source": [
        "!zip -r \"/content/drive/MyDrive/generadas.zip\" \"/content/output\"\n",
        "#files.download(\"generadas.zip\")"
      ],
      "execution_count": null,
      "outputs": [
        {
          "output_type": "stream",
          "text": [
            "  adding: content/output/ (stored 0%)\n",
            "  adding: content/output/output_at_iteration_68.png (deflated 0%)\n",
            "  adding: content/output/output_at_iteration_9.png (deflated 0%)\n",
            "  adding: content/output/output_at_iteration_36.png (deflated 0%)\n",
            "  adding: content/output/output_at_iteration_14.png (deflated 0%)\n",
            "  adding: content/output/output_at_iteration_98.png (deflated 0%)\n",
            "  adding: content/output/output_at_iteration_21.png (deflated 0%)\n",
            "  adding: content/output/output_at_iteration_20.png (deflated 0%)\n",
            "  adding: content/output/output_at_iteration_53.png (deflated 0%)\n",
            "  adding: content/output/output_at_iteration_65.png (deflated 0%)\n",
            "  adding: content/output/output_at_iteration_51.png (deflated 0%)\n",
            "  adding: content/output/output_at_iteration_28.png (deflated 0%)\n",
            "  adding: content/output/output_at_iteration_67.png (deflated 0%)\n",
            "  adding: content/output/output_at_iteration_78.png (deflated 0%)\n",
            "  adding: content/output/output_at_iteration_82.png (deflated 0%)\n",
            "  adding: content/output/output_at_iteration_56.png (deflated 0%)\n",
            "  adding: content/output/output_at_iteration_22.png (deflated 0%)\n",
            "  adding: content/output/output_at_iteration_2.png (deflated 0%)\n",
            "  adding: content/output/output_at_iteration_3.png (deflated 0%)\n",
            "  adding: content/output/output_at_iteration_59.png (deflated 0%)\n",
            "  adding: content/output/output_at_iteration_45.png (deflated 0%)\n",
            "  adding: content/output/output_at_iteration_16.png (deflated 0%)\n",
            "  adding: content/output/output_at_iteration_38.png (deflated 0%)\n",
            "  adding: content/output/output_at_iteration_73.png (deflated 0%)\n",
            "  adding: content/output/output_at_iteration_18.png (deflated 0%)\n",
            "  adding: content/output/output_at_iteration_63.png (deflated 0%)\n",
            "  adding: content/output/output_at_iteration_25.png (deflated 0%)\n",
            "  adding: content/output/output_at_iteration_71.png (deflated 0%)\n",
            "  adding: content/output/output_at_iteration_92.png (deflated 0%)\n",
            "  adding: content/output/output_at_iteration_81.png (deflated 0%)\n",
            "  adding: content/output/output_at_iteration_12.png (deflated 0%)\n",
            "  adding: content/output/output_at_iteration_62.png (deflated 0%)\n",
            "  adding: content/output/output_at_iteration_99.png (deflated 0%)\n",
            "  adding: content/output/output_at_iteration_26.png (deflated 0%)\n",
            "  adding: content/output/output_at_iteration_19.png (deflated 0%)\n",
            "  adding: content/output/output_at_iteration_66.png (deflated 0%)\n",
            "  adding: content/output/output_at_iteration_87.png (deflated 0%)\n",
            "  adding: content/output/output_at_iteration_57.png (deflated 0%)\n",
            "  adding: content/output/output_at_iteration_15.png (deflated 0%)\n",
            "  adding: content/output/output_at_iteration_10.png (deflated 0%)\n",
            "  adding: content/output/output_at_iteration_69.png (deflated 0%)\n",
            "  adding: content/output/output_at_iteration_94.png (deflated 0%)\n",
            "  adding: content/output/output_at_iteration_23.png (deflated 0%)\n",
            "  adding: content/output/output_at_iteration_80.png (deflated 0%)\n",
            "  adding: content/output/output_at_iteration_97.png (deflated 0%)\n",
            "  adding: content/output/output_at_iteration_43.png (deflated 0%)\n",
            "  adding: content/output/output_at_iteration_64.png (deflated 0%)\n",
            "  adding: content/output/output_at_iteration_31.png (deflated 0%)\n",
            "  adding: content/output/output_at_iteration_79.png (deflated 0%)\n",
            "  adding: content/output/output_at_iteration_5.png (deflated 0%)\n",
            "  adding: content/output/output_at_iteration_83.png (deflated 0%)\n",
            "  adding: content/output/output_at_iteration_91.png (deflated 0%)\n",
            "  adding: content/output/output_at_iteration_32.png (deflated 0%)\n",
            "  adding: content/output/output_at_iteration_40.png (deflated 0%)\n",
            "  adding: content/output/output_at_iteration_0.png (deflated 0%)\n",
            "  adding: content/output/output_at_iteration_75.png (deflated 0%)\n",
            "  adding: content/output/output_at_iteration_61.png (deflated 0%)\n",
            "  adding: content/output/output_at_iteration_95.png (deflated 0%)\n",
            "  adding: content/output/output_at_iteration_11.png (deflated 0%)\n",
            "  adding: content/output/output_at_iteration_77.png (deflated 0%)\n",
            "  adding: content/output/output_at_iteration_54.png (deflated 0%)\n",
            "  adding: content/output/output_at_iteration_41.png (deflated 0%)\n",
            "  adding: content/output/output_at_iteration_46.png (deflated 0%)\n",
            "  adding: content/output/output_at_iteration_86.png (deflated 0%)\n",
            "  adding: content/output/output_at_iteration_48.png (deflated 0%)\n",
            "  adding: content/output/output_at_iteration_37.png (deflated 0%)\n",
            "  adding: content/output/output_at_iteration_1.png (deflated 0%)\n",
            "  adding: content/output/output_at_iteration_58.png (deflated 0%)\n",
            "  adding: content/output/output_at_iteration_76.png (deflated 0%)\n",
            "  adding: content/output/output_at_iteration_60.png (deflated 0%)\n",
            "  adding: content/output/output_at_iteration_42.png (deflated 0%)\n",
            "  adding: content/output/output_at_iteration_96.png (deflated 0%)\n",
            "  adding: content/output/output_at_iteration_27.png (deflated 0%)\n",
            "  adding: content/output/output_at_iteration_72.png (deflated 0%)\n",
            "  adding: content/output/output_at_iteration_52.png (deflated 0%)\n",
            "  adding: content/output/output_at_iteration_34.png (deflated 0%)\n",
            "  adding: content/output/output_at_iteration_29.png (deflated 0%)\n",
            "  adding: content/output/output_at_iteration_8.png (deflated 0%)\n",
            "  adding: content/output/output_at_iteration_47.png (deflated 0%)\n",
            "  adding: content/output/output_at_iteration_55.png (deflated 0%)\n",
            "  adding: content/output/output_at_iteration_44.png (deflated 0%)\n",
            "  adding: content/output/output_at_iteration_30.png (deflated 0%)\n",
            "  adding: content/output/output_at_iteration_70.png (deflated 0%)\n",
            "  adding: content/output/output_at_iteration_7.png (deflated 0%)\n",
            "  adding: content/output/output_at_iteration_13.png (deflated 0%)\n",
            "  adding: content/output/output_at_iteration_84.png (deflated 0%)\n",
            "  adding: content/output/output_at_iteration_17.png (deflated 0%)\n",
            "  adding: content/output/output_at_iteration_39.png (deflated 0%)\n",
            "  adding: content/output/output_at_iteration_33.png (deflated 0%)\n",
            "  adding: content/output/output_at_iteration_35.png (deflated 0%)\n",
            "  adding: content/output/output_at_iteration_88.png (deflated 0%)\n",
            "  adding: content/output/output_at_iteration_24.png (deflated 0%)\n",
            "  adding: content/output/output_at_iteration_93.png (deflated 0%)\n",
            "  adding: content/output/output_at_iteration_6.png (deflated 0%)\n",
            "  adding: content/output/output_at_iteration_89.png (deflated 0%)\n",
            "  adding: content/output/output_at_iteration_49.png (deflated 0%)\n",
            "  adding: content/output/output_at_iteration_50.png (deflated 0%)\n",
            "  adding: content/output/output_at_iteration_85.png (deflated 0%)\n",
            "  adding: content/output/output_at_iteration_90.png (deflated 0%)\n",
            "  adding: content/output/output_at_iteration_74.png (deflated 0%)\n",
            "  adding: content/output/output_at_iteration_4.png (deflated 0%)\n"
          ],
          "name": "stdout"
        }
      ]
    },
    {
      "cell_type": "markdown",
      "metadata": {
        "id": "hTYrf_pWobYq"
      },
      "source": [
        "# 8) Generar imágenes para distintas combinaciones de pesos de las losses. Explicar las diferencias. (Adjuntar las imágenes generadas como archivos separados.)\n",
        "\n",
        "Respuesta:\n",
        "En las imagenes observaremos el resultado que nos arrojó la red para distintas combinaciones de losses. Generaremos una secuencia de tres imágenes que van poniendo énfasis desde el contenido puro hasta poner mucho énfasis en el estilo (se adjuntan las imagenes de salida 8A, 8B y 8C).\n",
        "\n",
        "Así, en la primer imagen 8A la red basicamente no está resolviendo el estilo para nada. Lo que queda es  esencialmente el contenido teniendo en cuenta que usamos una relacion contenido/estilo de 100/1 siendo 100 el peso que configuramos para el contenido y 1 el peso para el estilo. En la segunda imagen 8B el mayor peso lo pasa a tener el estilo, pero tambien aumentamos el peso del contenido resultando en un mejor balance en la relacion contenido/estilo (40/100) y obteniendo como resultado una imagen donde ya se puede ver cómo es posible fusionar el contenido con el estilo. En la tercer imagen 8C, la red deja de lado el contenido y esencialmente resuelve el estilo con una relacion 1/100, así lo que queda es una imagen donde se pone prácticamente todo el énfasis en el estilo."
      ]
    },
    {
      "cell_type": "markdown",
      "metadata": {
        "id": "I2WodK6QoxPu"
      },
      "source": [
        "# 9) Cambiar las imágenes de contenido y estilo por unas elegidas por usted. Adjuntar el resultado.\n",
        "\n",
        "Respuesta:\n",
        "\n",
        "Se adjuntan las siguientes imágenes:\n",
        "\n",
        "Style Transfer 1\n",
        "\n",
        "-Imagen de contenido: 9C1\n",
        "\n",
        "-Imagen de estilo: 9E1\n",
        "\n",
        "-Imagen de salida: 9S1\n",
        "\n",
        "\n",
        "Style Transfer 2\n",
        "\n",
        "-Imagen de contenido: 9C2\n",
        "\n",
        "-Imagen de estilo: 9E2\n",
        "\n",
        "-Imagen de salida: 9S2"
      ]
    }
  ]
}